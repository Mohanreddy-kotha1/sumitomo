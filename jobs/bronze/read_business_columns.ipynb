{
  "nbformat": 4,
  "nbformat_minor": 5,
  "metadata": {
    "kernelspec": {
      "name": "python3",
      "language": "python",
      "display_name": "Python 3"
    },
    "language_info": {
      "name": "python",
      "version": "3.12.7"
    }
  },
  "cells": [
    {
      "cell_type": "markdown",
      "metadata": {},
      "source": [
        "# Read business columns (CSV → Delta) — minimal view\n",
        "This notebook reads a **small, business‑critical subset of columns** from your data.\n\n",
        "You can either:\n",
        "- **Read the specific Parquet part file** you mentioned (fast projection)\n",
        "- *(Optional)* Read the **entire Delta table** and then select the same columns\n\n",
        "> **Note:** Keep only a handful of columns so they fit nicely in the VS Code terminal output.\n"
      ]
    },
    {
      "cell_type": "code",
      "metadata": {},
      "source": [
        "# ✅ Imports & version check\n",
        "import sys, os\n",
        "import pandas as pd\n",
        "\n",
        "try:\n",
        "    import pyarrow, pyarrow.parquet as pq\n",
        "except Exception as e:\n",
        "    raise RuntimeError(\"PyArrow is required. Install with: python -m pip install pyarrow==21.0.0\")\n",
        "\n",
        "try:\n",
        "    from deltalake import DeltaTable\n",
        "except Exception:\n",
        "    DeltaTable = None  # Optional for reading a full Delta table\n",
        "\n",
        "print('Python:', sys.executable)\n",
        "print('pandas:', pd.__version__)\n",
        "print('pyarrow:', pyarrow.__version__)\n",
        "print('deltalake:', end=' ')\n",
        "print(DeltaTable.__module__.split('.')[0] if DeltaTable else 'not installed')\n"
      ]
    },
    {
      "cell_type": "code",
      "metadata": {},
      "source": [
        "# 📁 Set your paths\n",
        "PARQUET_FILE = r\"C:\\Users\\mohanreddykotha\\sumitomo_datalake\\sumitomo\\data\\bronze_delta\\Slovakia\\REPORT_X_SLOVAKIA__Sheet1\\part-00001-3e05bdd7-3870-4ec7-8f3a-e6bf0b6c053c-c000.snappy.parquet\"\n",
        "TABLE_DIR    = r\"C:\\Users\\mohanreddykotha\\sumitomo_datalake\\sumitomo\\data\\bronze_delta\\Slovakia\\REPORT_X_SLOVAKIA__Sheet1\"\n",
        "\n",
        "assert os.path.exists(PARQUET_FILE), f'Parquet file not found: {PARQUET_FILE}'\n",
        "assert os.path.isdir(TABLE_DIR), f'Table directory not found: {TABLE_DIR}'\n",
        "PARQUET_FILE, TABLE_DIR\n"
      ]
    },
    {
      "cell_type": "code",
      "metadata": {},
      "source": [
        "# 🧾 Business columns — small subset only (UPPERCASE names)\n",
        "BUSINESS_KEEP = [\n",
        "    'ORDER_NO','MODEL_2','ORDER_DATE','VIN','MODEL_YEAR',\n",
        "    'BODY','SERIES','ENGINE','TRANSMISSION','COLOUR','TRIM','OPTION_LIST'\n",
        "]\n",
        "len(BUSINESS_KEEP), BUSINESS_KEEP\n"
      ]
    },
    {
      "cell_type": "code",
      "metadata": {
        "tags": [
          "parameters"
        ]
      },
      "source": [
        "# ▶️ A) Read the **single Parquet file** with projection (fast)\n",
        "#    We first inspect the schema, intersect with BUSINESS_KEEP, then read only those columns.\n",
        "\n",
        "import pyarrow.parquet as pq\n",
        "schema = pq.read_schema(PARQUET_FILE)\n",
        "available = {str(f.name) for f in schema}\n",
        "keep_final = [c for c in BUSINESS_KEEP if c in available]\n",
        "missing = [c for c in BUSINESS_KEEP if c not in available]\n",
        "\n",
        "df = pd.read_parquet(PARQUET_FILE, columns=keep_final, engine='pyarrow')\n",
        "\n",
        "print('Columns requested :', len(BUSINESS_KEEP))\n",
        "print('Columns read      :', len(keep_final))\n",
        "if missing:\n",
        "    print('Missing columns :', missing)\n",
        "\n",
        "pd.set_option('display.max_columns', None, 'display.width', 200)\n",
        "print('\n=== Business columns (first 20 rows) ===')\n",
        "print(df.head(20).to_string(index=False))\n",
        "df.head()\n"
      ]
    },
    {
      "cell_type": "markdown",
      "metadata": {},
      "source": [
        "---\n",
        "### (Optional) B) Read the **entire Delta table** and then select the same columns\n",
        "Use this if you want rows across **all** Parquet parts. Requires the `deltalake` package.\n"
      ]
    },
    {
      "cell_type": "code",
      "metadata": {},
      "source": [
        "if DeltaTable is not None:\n",
        "    dt = DeltaTable(TABLE_DIR)\n",
        "    print('Delta version:', dt.version())\n",
        "    df_all = dt.to_pandas()\n",
        "    cols_in_data = set(df_all.columns)\n",
        "    keep_final = [c for c in BUSINESS_KEEP if c in cols_in_data]\n",
        "    missing = [c for c in BUSINESS_KEEP if c not in cols_in_data]\n",
        "    df_tbl = df_all[keep_final] if keep_final else df_all\n",
        "    print('Columns requested :', len(BUSINESS_KEEP))\n",
        "    print('Columns read      :', len(keep_final))\n",
        "    if missing:\n",
        "        print('Missing columns :', missing)\n",
        "    print('\n=== Business columns from FULL TABLE (first 20 rows) ===')\n",
        "    print(df_tbl.head(20).to_string(index=False))\n",
        "else:\n",
        "    print('deltalake not installed; skipping full-table read.')\n"
      ]
    }
  ]
}