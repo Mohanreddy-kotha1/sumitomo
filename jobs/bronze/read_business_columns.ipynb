{
  "cells": [
    {
      "cell_type": "code",
      "execution_count": 1,
      "metadata": {},
      "outputs": [
        {
          "name": "stdout",
          "output_type": "stream",
          "text": [
            "Python: c:\\Users\\mohanreddykotha\\sumitomo_datalake\\sumitomo\\.venv\\Scripts\\python.exe\n",
            "pandas: 2.3.2\n",
            "pyarrow: 21.0.0\n",
            "deltalake: deltalake\n"
          ]
        }
      ],
      "source": [
        "# Imports & version check\n",
        "import sys, os\n",
        "import pandas as pd\n",
        "\n",
        "try:\n",
        "    import pyarrow, pyarrow.parquet as pq\n",
        "except Exception as e:\n",
        "    raise RuntimeError(\"PyArrow is required. Install with: python -m pip install pyarrow==21.0.0\")\n",
        "\n",
        "try:\n",
        "    from deltalake import DeltaTable\n",
        "except Exception:\n",
        "    DeltaTable = None  # Optional for reading a full Delta table\n",
        "\n",
        "print('Python:', sys.executable)\n",
        "print('pandas:', pd.__version__)\n",
        "print('pyarrow:', pyarrow.__version__)\n",
        "print('deltalake:', end=' ')\n",
        "print(DeltaTable.__module__.split('.')[0] if DeltaTable else 'not installed')\n"
      ]
    },
    {
      "cell_type": "code",
      "execution_count": 2,
      "metadata": {},
      "outputs": [
        {
          "data": {
            "text/plain": [
              "('C:\\\\Users\\\\mohanreddykotha\\\\sumitomo_datalake\\\\sumitomo\\\\data\\\\bronze_delta\\\\Slovakia\\\\REPORT_X_SLOVAKIA__Sheet1\\\\part-00001-3e05bdd7-3870-4ec7-8f3a-e6bf0b6c053c-c000.snappy.parquet',\n",
              " 'C:\\\\Users\\\\mohanreddykotha\\\\sumitomo_datalake\\\\sumitomo\\\\data\\\\bronze_delta\\\\Slovakia\\\\REPORT_X_SLOVAKIA__Sheet1')"
            ]
          },
          "execution_count": 2,
          "metadata": {},
          "output_type": "execute_result"
        }
      ],
      "source": [
        "# Set your paths\n",
        "PARQUET_FILE = r\"C:\\Users\\mohanreddykotha\\sumitomo_datalake\\sumitomo\\data\\bronze_delta\\Slovakia\\REPORT_X_SLOVAKIA__Sheet1\\part-00001-3e05bdd7-3870-4ec7-8f3a-e6bf0b6c053c-c000.snappy.parquet\"\n",
        "TABLE_DIR    = r\"C:\\Users\\mohanreddykotha\\sumitomo_datalake\\sumitomo\\data\\bronze_delta\\Slovakia\\REPORT_X_SLOVAKIA__Sheet1\"\n",
        "\n",
        "assert os.path.exists(PARQUET_FILE), f'Parquet file not found: {PARQUET_FILE}'\n",
        "assert os.path.isdir(TABLE_DIR), f'Table directory not found: {TABLE_DIR}'\n",
        "PARQUET_FILE, TABLE_DIR\n"
      ]
    },
    {
      "cell_type": "code",
      "execution_count": 7,
      "metadata": {},
      "outputs": [
        {
          "data": {
            "text/plain": [
              "(13,\n",
              " ['ORDER_NO',\n",
              "  'MODEL_2',\n",
              "  'ORDER_DATE',\n",
              "  'VIN',\n",
              "  'MODEL_YEAR',\n",
              "  'BODY',\n",
              "  'SERIES',\n",
              "  'ENGINE',\n",
              "  'TRANSMISSION',\n",
              "  'COLOUR',\n",
              "  'TRIM',\n",
              "  'OPTION_LIST',\n",
              "  'BUILD_DATE'])"
            ]
          },
          "execution_count": 7,
          "metadata": {},
          "output_type": "execute_result"
        }
      ],
      "source": [
        "# Business columns — small subset only (UPPERCASE names)\n",
        "BUSINESS_KEEP = [\n",
        "    'ORDER_NO','MODEL_2','ORDER_DATE','VIN','MODEL_YEAR',\n",
        "    'BODY','SERIES','ENGINE','TRANSMISSION','COLOUR','TRIM','OPTION_LIST', 'BUILD_DATE'\n",
        "]\n",
        "len(BUSINESS_KEEP), BUSINESS_KEEP\n"
      ]
    },
    {
      "cell_type": "code",
      "execution_count": 10,
      "metadata": {
        "tags": [
          "parameters"
        ]
      },
      "outputs": [
        {
          "name": "stdout",
          "output_type": "stream",
          "text": [
            "Columns requested : 13\n",
            "Columns read      : 13\n",
            "ORDER_NO             MODEL_2          ORDER_DATE         VIN MODEL_YEAR                  BODY             SERIES                                          ENGINE                                             TRANSMISSION                        COLOUR                                                               TRIM                                                                                                                                                                                                                                                                     OPTION_LIST          BUILD_DATE\n",
            "   A0034         V710 CAMPER 2025-01-08 00:00:00                2026.00                CAMPER            320 LWB     2.0L CR TC DSL PANTHER F EURO 6.2 EMISSIONS     8 SPD AUTOMATIC TRANS 8F57 4 WHL L/H PART TIME DRIVE                 BLUE METALLIC                                              NORDIC BLUV - NUNATEK                         19X7.5 ALLOY WHEEL STYLE A , ENGINE UNDERBODY PROTECTION , EXTENDED RANGE SINGLE FU/TNK , ADAPTIVE DSS HEADLAMP , MANUAL REGEN INITIATION , DRIVER ASSISTANCE PACKAGE #6 , DUAL SIDE LOAD DOORS , HEATED STEERING WHEELS , RETRACTABLE TRAILER COUPLING           UNPLANNED\n",
            "   B1262         V710 CAMPER 2025-02-26 00:00:00                2026.00                CAMPER            320 LWB     2.0L CR TC DSL PANTHER F EURO 6.2 EMISSIONS     8 SPD AUTOMATIC TRANS 8F57 4 WHL L/H PART TIME DRIVE MOONDUST SILVER C/C MED SOLID                                              NORDIC BLUV - NUNATEK                                                                                                ENGINE UNDERBODY PROTECTION , EXTENDED RANGE SINGLE FU/TNK , DRIVER ASSISTANCE PACKAGE #6 , DUAL SIDE LOAD DOORS - POWER , HEATED STEERING WHEELS , RETRACTABLE TRAILER COUPLING           UNPLANNED\n",
            "   B1263         V710 CAMPER 2025-02-26 00:00:00                2026.00                CAMPER            320 LWB     2.0L CR TC DSL PANTHER F EURO 6.2 EMISSIONS     8 SPD AUTOMATIC TRANS 8F57 4 WHL L/H PART TIME DRIVE                      MAGNETIC                                              NORDIC BLUV - NUNATEK                                                                                                ENGINE UNDERBODY PROTECTION , EXTENDED RANGE SINGLE FU/TNK , DRIVER ASSISTANCE PACKAGE #6 , DUAL SIDE LOAD DOORS - POWER , HEATED STEERING WHEELS , RETRACTABLE TRAILER COUPLING           UNPLANNED\n",
            "   B1083         V710 CAMPER 2025-02-14 00:00:00                2026.00                CAMPER            320 LWB     2.0L CR TC DSL PANTHER F EURO 6.2 EMISSIONS     8 SPD AUTOMATIC TRANS 8F57 4 WHL L/H PART TIME DRIVE MOONDUST SILVER C/C MED SOLID                                              NORDIC BLUV - NUNATEK                                                                                                                                      EXTENDED RANGE SINGLE FU/TNK , DRIVER ASSISTANCE PACKAGE #6 , DUAL SIDE LOAD DOORS , HEATED STEERING WHEELS , RETRACTABLE TRAILER COUPLING           UNPLANNED\n",
            "   B1084         V710 CAMPER 2025-02-14 00:00:00                2026.00                CAMPER            320 LWB     2.0L CR TC DSL PANTHER F EURO 6.2 EMISSIONS     8 SPD AUTOMATIC TRANS 8F57 4 WHL L/H PART TIME DRIVE                   ARTISAN RED                                              NORDIC BLUV - NUNATEK                                                                                                                                      EXTENDED RANGE SINGLE FU/TNK , DRIVER ASSISTANCE PACKAGE #6 , DUAL SIDE LOAD DOORS , HEATED STEERING WHEELS , RETRACTABLE TRAILER COUPLING           UNPLANNED\n",
            "   B1264         V710 CAMPER 2025-02-26 00:00:00                2026.00                CAMPER            320 LWB     2.0L CR TC DSL PANTHER F EURO 6.2 EMISSIONS     8 SPD AUTOMATIC TRANS 8F57 4 WHL L/H PART TIME DRIVE                   ARTISAN RED                                              NORDIC BLUV - NUNATEK                                                                                                ENGINE UNDERBODY PROTECTION , EXTENDED RANGE SINGLE FU/TNK , DRIVER ASSISTANCE PACKAGE #6 , DUAL SIDE LOAD DOORS - POWER , HEATED STEERING WHEELS , RETRACTABLE TRAILER COUPLING           UNPLANNED\n",
            "   B0449         V710 CAMPER 2025-02-04 00:00:00                2026.00                CAMPER            320 LWB     2.0L CR TC DSL PANTHER F EURO 6.2 EMISSIONS     8 SPD AUTOMATIC TRANS 8F57 4 WHL L/H PART TIME DRIVE                  FROZEN WHITE                                              NORDIC BLUV - NUNATEK                                                                                                       ENGINE UNDERBODY PROTECTION , EXTENDED RANGE SINGLE FU/TNK , ADAPTIVE DSS HEADLAMP , KERBSIDE PWR SIDE LOAD DOORS , HEATED STEERING WHEELS , RETRACTABLE TRAILER COUPLING           UNPLANNED\n",
            "   E0099      C519 MCA FOCUS 2025-05-06 00:00:00 GCHPSR24332    2024.50  4 DOOR STATION WAGON            ST-LINE      1.5L DV NEO TC DI DSL D EURO 6.2 EMISSIONS         8 SPD AUTOMATIC TRANS 8F35 2 WHL L/H FRONT DRIVE                   Agate Black                                             GENERIC REC - RAY/ETON                                                                                                                                                                              MARKETING WINTER PACK #1 , PERIMETER /VOLUME THEFT SYSTEM , PRIVACY GLASS , REAR VIEW CAMERA-FIXED 2025-06-04 00:00:00\n",
            "   G1026 V710 TRANSIT CUSTOM 2025-07-15 00:00:00 TA3RSG47090    2026.00     REGULAR CARGO VAN        1.0-280S-1T   2.0L PANTHER 81KW / 110PS STAGE 6.2 EMISSIONS                   6 SP MAN TRANS-VMT6 3 SHAFT 2W FWD LHD                  FROZEN WHITE                                         BLACK ONYXC - PLUS STYLE 1                                                                                                                                                                   STEERING WHEEL-LEATHER WRAPPED , SPARE WHEEL-16\" STEEL , EXTENDED RANGE SINGLE FU/TNK , LOCKING GLOVE BOX LID 2025-08-18 00:00:00\n",
            "   B0810 V710 TOURNEO CUSTOM 2025-02-05 00:00:00 TA4XSP36409    2025.75            BUS M1 LRF            320 SWB     2.0L CR TC DSL PANTHER F EURO 6.2 EMISSIONS                    8 SPD AUTOMATIC TRANS 8F57 2W FWD LHD                   GREY MATTER                                              NORDIC BLUV - NUNATEK                                                                                                                 19X7.5 ALLOY WHEEL STYLE A , EXTENDED RANGE SINGLE FU/TNK , POWER INVERTER #1 , TRAILER TOW ELECTRICS , HEATED STEERING WHEELS , FLIP OPEN 2ND ROW R/H SIDE WND 2025-05-23 00:00:00\n",
            "   D0171     CX482 KUGA 2024 2025-04-07 00:00:00 WPMHSR44533    2025.75 SPORT UTILITY VEHICLE             ACTIVE 2.5L DURATEC AUTO PHEV STAGE 6.2 PHEV EMISSIONS            CVT AUTO HF55 PHEV/FHEV 2 WHL L/H FRONT DRIVE                   AGATE BLACK                                                        Active trim                                                                                                                                                                                SPARE WHEEL-MINI STEEL , TOWING PRE-PACK , CHARGE CORD - ELEC BATTERY , MARKETING WINTER PACK #1 2025-06-17 00:00:00\n",
            "   F0612     CX482 KUGA 2024 2025-06-16 00:00:00 WPMFSA58211    2025.75 SPORT UTILITY VEHICLE            ST-LINE             1.5L DRAGON AUTO EURO 6.2 EMISSIONS         8 SPD AUTOMATIC TRANS 8F35 2 WHL L/H FRONT DRIVE                   AGATE BLACK                                                       ST-Line trim                                                                                                                                                                                                                                                        MARKETING WINTER PACK #1 2025-07-24 00:00:00\n",
            "   K0087        CX740L CAPRI 2024-07-23 00:00:00 EF1SRY27949    2025.00            5-DOOR CUV               SELF        EXTENDED RANGE RWD ZERO EMISSION VEHICLE                            1 SPEED AUTO TRANSMISSION RWD                  Vivid Yellow                     Onyx Black Sensico with Cloth Sport Style Seat                                                                                                                                                                                                                                                                                 2024-10-28 00:00:00\n",
            "   C0218 V710 TOURNEO CUSTOM 2024-03-27 00:00:00 TA7XSU80217    2025.25            BUS M1 LRF            320 SWB     2.0L CR TC DSL PANTHER F EURO 6.2 EMISSIONS                       8 SPD AUTOMATIC TRANS 8F57 AWD LHD                   ARTISAN RED                                      BLACK ONYXF - WINDSOR STYLE 2 SPARE WHEEL - TEMPORARY , 14 RADIO SPEAKERS , EXTENDED RANGE SINGLE FU/TNK , POWER INVERTER #1 , H8 95AH AGM BATTERY , DUAL SIDE LOAD DOORS - POWER , HEATED STEERING WHEELS , SEAT PACK 23 , RETRACTABLE TRAILER COUPLING , FLIP OPEN 2ND ROW R/H SIDE WND , WIRELESS CHARGING 2025-02-22 00:00:00\n",
            "   G1241    RANGER P703 2022 2025-07-22 00:00:00                2026.00 DOUBLE CAB (CREW CAB) WILDTRAK #1 SERIES    2.0L CR TC DSL PANTHER C STAGE 6.2 EMISSIONS 10 SPD AUTO TRANSMISSION-10R80 4 WHL L/H FULL TIME DRIVE                BLUE LIGHTNING                                                   EBONYLEATHER # 2                                                                                                                                   PWR REAR 1 SHOT UP/DOWN WINDOW , TONNEAU COVER - POWER ROLL TOP , MARKETING CV PACK #3 , TECHNOLOGY PACKAGE 52 , CARGO AREA MANAGEMENT SYSTEM           UNPLANNED\n",
            "   G1310    RANGER P703 2022 2025-07-22 00:00:00                2026.00 DOUBLE CAB (CREW CAB) WILDTRAK #1 SERIES    2.0L CR TC DSL PANTHER C STAGE 6.2 EMISSIONS 10 SPD AUTO TRANSMISSION-10R80 4 WHL L/H FULL TIME DRIVE               CYBER ORANGE 3C                                                   EBONYLEATHER # 2                                                                                                                                   PWR REAR 1 SHOT UP/DOWN WINDOW , TONNEAU COVER - POWER ROLL TOP , MARKETING CV PACK #3 , TECHNOLOGY PACKAGE 46 , CARGO AREA MANAGEMENT SYSTEM           UNPLANNED\n",
            "   C1686  TRANSIT V363E 2024 2025-03-19 00:00:00 TTRESB82671    2025.75                   VAN               350L          2.0L ECOBLUE 130PS STAGE 6.2 EMISSIONS                      6 SP MAN TRANS-VMT6 3 SHAFT LHD-FWD                      RACE RED                                          DARK PALAZC-QUADRANT/CITY                                                                                                                           FRONT SPLASH GUARDS/MUD FLAPS , SPARE WHEEL-CONVENTIONAL STEEL , ELECTRIC WINDSHIELD DEFROSTER , ATC AIR CONDITIONER , CTR HIGH-MOUNTED LED DOWNLIGHT 2025-05-02 00:00:00\n",
            "   F0530      C519 MCA FOCUS 2025-06-04 00:00:00                2024.50  4 DOOR STATION WAGON           TITANIUM      1.5L DV NEO TC DI DSL D EURO 6.2 EMISSIONS         8 SPD AUTOMATIC TRANS 8F35 2 WHL L/H FRONT DRIVE                   Agate Black                     Titanium fabric trim (Metal Gray - Ray Fabric)                                                                                                                                                                                                                                                         6.5X 16\" ALLOY  STYLE D 2025-11-17 00:00:00\n",
            "   E0131   V761 CITY VAN TOU 2025-05-27 00:00:00 SK6SX022729    2025.75         GRAND TOURNEO             ACTIVE              2.0L ECOBLUE 122PS STAGE 6E-BIS M1             6 SPEED MANUAL AWD 4 WHL L/H FULL TIME DRIVE                  Dusky Silver Glacier (black) seat trim with blue emblems and contrast stitching                                                                                                                                                                                                               PROGRAM AUX HTR FUEL BURN , FIXED TRAILER COUPLING , SEAT PACK 17 2025-07-07 00:00:00\n",
            "   F0707     CX482 KUGA 2024 2025-06-13 00:00:00                2025.75 SPORT UTILITY VEHICLE            ST-LINE 2.5L DURATEC AUTO FHEV STAGE 6.2 FHEV EMISSIONS        CVT AUTO HF55 PHEV/FHEV 4 WHL L/H PART TIME DRIVE                 MAGNETIC GREY                                                       ST-Line trim                                                                                                                                                                                                                               SPARE WHEEL-MINI STEEL , MARKETING WINTER PACK #1 2025-09-22 00:00:00\n"
          ]
        },
        {
          "data": {
            "text/html": [
              "<div>\n",
              "<style scoped>\n",
              "    .dataframe tbody tr th:only-of-type {\n",
              "        vertical-align: middle;\n",
              "    }\n",
              "\n",
              "    .dataframe tbody tr th {\n",
              "        vertical-align: top;\n",
              "    }\n",
              "\n",
              "    .dataframe thead th {\n",
              "        text-align: right;\n",
              "    }\n",
              "</style>\n",
              "<table border=\"1\" class=\"dataframe\">\n",
              "  <thead>\n",
              "    <tr style=\"text-align: right;\">\n",
              "      <th></th>\n",
              "      <th>ORDER_NO</th>\n",
              "      <th>MODEL_2</th>\n",
              "      <th>ORDER_DATE</th>\n",
              "      <th>VIN</th>\n",
              "      <th>MODEL_YEAR</th>\n",
              "      <th>BODY</th>\n",
              "      <th>SERIES</th>\n",
              "      <th>ENGINE</th>\n",
              "      <th>TRANSMISSION</th>\n",
              "      <th>COLOUR</th>\n",
              "      <th>TRIM</th>\n",
              "      <th>OPTION_LIST</th>\n",
              "      <th>BUILD_DATE</th>\n",
              "    </tr>\n",
              "  </thead>\n",
              "  <tbody>\n",
              "    <tr>\n",
              "      <th>0</th>\n",
              "      <td>A0034</td>\n",
              "      <td>V710 CAMPER</td>\n",
              "      <td>2025-01-08 00:00:00</td>\n",
              "      <td></td>\n",
              "      <td>2026.00</td>\n",
              "      <td>CAMPER</td>\n",
              "      <td>320 LWB</td>\n",
              "      <td>2.0L CR TC DSL PANTHER F EURO 6.2 EMISSIONS</td>\n",
              "      <td>8 SPD AUTOMATIC TRANS 8F57 4 WHL L/H PART TIME...</td>\n",
              "      <td>BLUE METALLIC</td>\n",
              "      <td>NORDIC BLUV - NUNATEK</td>\n",
              "      <td>19X7.5 ALLOY WHEEL STYLE A , ENGINE UNDERBODY ...</td>\n",
              "      <td>UNPLANNED</td>\n",
              "    </tr>\n",
              "    <tr>\n",
              "      <th>1</th>\n",
              "      <td>B1262</td>\n",
              "      <td>V710 CAMPER</td>\n",
              "      <td>2025-02-26 00:00:00</td>\n",
              "      <td></td>\n",
              "      <td>2026.00</td>\n",
              "      <td>CAMPER</td>\n",
              "      <td>320 LWB</td>\n",
              "      <td>2.0L CR TC DSL PANTHER F EURO 6.2 EMISSIONS</td>\n",
              "      <td>8 SPD AUTOMATIC TRANS 8F57 4 WHL L/H PART TIME...</td>\n",
              "      <td>MOONDUST SILVER C/C MED SOLID</td>\n",
              "      <td>NORDIC BLUV - NUNATEK</td>\n",
              "      <td>ENGINE UNDERBODY PROTECTION , EXTENDED RANGE S...</td>\n",
              "      <td>UNPLANNED</td>\n",
              "    </tr>\n",
              "    <tr>\n",
              "      <th>2</th>\n",
              "      <td>B1263</td>\n",
              "      <td>V710 CAMPER</td>\n",
              "      <td>2025-02-26 00:00:00</td>\n",
              "      <td></td>\n",
              "      <td>2026.00</td>\n",
              "      <td>CAMPER</td>\n",
              "      <td>320 LWB</td>\n",
              "      <td>2.0L CR TC DSL PANTHER F EURO 6.2 EMISSIONS</td>\n",
              "      <td>8 SPD AUTOMATIC TRANS 8F57 4 WHL L/H PART TIME...</td>\n",
              "      <td>MAGNETIC</td>\n",
              "      <td>NORDIC BLUV - NUNATEK</td>\n",
              "      <td>ENGINE UNDERBODY PROTECTION , EXTENDED RANGE S...</td>\n",
              "      <td>UNPLANNED</td>\n",
              "    </tr>\n",
              "    <tr>\n",
              "      <th>3</th>\n",
              "      <td>B1083</td>\n",
              "      <td>V710 CAMPER</td>\n",
              "      <td>2025-02-14 00:00:00</td>\n",
              "      <td></td>\n",
              "      <td>2026.00</td>\n",
              "      <td>CAMPER</td>\n",
              "      <td>320 LWB</td>\n",
              "      <td>2.0L CR TC DSL PANTHER F EURO 6.2 EMISSIONS</td>\n",
              "      <td>8 SPD AUTOMATIC TRANS 8F57 4 WHL L/H PART TIME...</td>\n",
              "      <td>MOONDUST SILVER C/C MED SOLID</td>\n",
              "      <td>NORDIC BLUV - NUNATEK</td>\n",
              "      <td>EXTENDED RANGE SINGLE FU/TNK , DRIVER ASSISTAN...</td>\n",
              "      <td>UNPLANNED</td>\n",
              "    </tr>\n",
              "    <tr>\n",
              "      <th>4</th>\n",
              "      <td>B1084</td>\n",
              "      <td>V710 CAMPER</td>\n",
              "      <td>2025-02-14 00:00:00</td>\n",
              "      <td></td>\n",
              "      <td>2026.00</td>\n",
              "      <td>CAMPER</td>\n",
              "      <td>320 LWB</td>\n",
              "      <td>2.0L CR TC DSL PANTHER F EURO 6.2 EMISSIONS</td>\n",
              "      <td>8 SPD AUTOMATIC TRANS 8F57 4 WHL L/H PART TIME...</td>\n",
              "      <td>ARTISAN RED</td>\n",
              "      <td>NORDIC BLUV - NUNATEK</td>\n",
              "      <td>EXTENDED RANGE SINGLE FU/TNK , DRIVER ASSISTAN...</td>\n",
              "      <td>UNPLANNED</td>\n",
              "    </tr>\n",
              "  </tbody>\n",
              "</table>\n",
              "</div>"
            ],
            "text/plain": [
              "  ORDER_NO      MODEL_2           ORDER_DATE VIN MODEL_YEAR    BODY   SERIES                                       ENGINE                                       TRANSMISSION                         COLOUR                   TRIM                                        OPTION_LIST BUILD_DATE\n",
              "0    A0034  V710 CAMPER  2025-01-08 00:00:00        2026.00  CAMPER  320 LWB  2.0L CR TC DSL PANTHER F EURO 6.2 EMISSIONS  8 SPD AUTOMATIC TRANS 8F57 4 WHL L/H PART TIME...                  BLUE METALLIC  NORDIC BLUV - NUNATEK  19X7.5 ALLOY WHEEL STYLE A , ENGINE UNDERBODY ...  UNPLANNED\n",
              "1    B1262  V710 CAMPER  2025-02-26 00:00:00        2026.00  CAMPER  320 LWB  2.0L CR TC DSL PANTHER F EURO 6.2 EMISSIONS  8 SPD AUTOMATIC TRANS 8F57 4 WHL L/H PART TIME...  MOONDUST SILVER C/C MED SOLID  NORDIC BLUV - NUNATEK  ENGINE UNDERBODY PROTECTION , EXTENDED RANGE S...  UNPLANNED\n",
              "2    B1263  V710 CAMPER  2025-02-26 00:00:00        2026.00  CAMPER  320 LWB  2.0L CR TC DSL PANTHER F EURO 6.2 EMISSIONS  8 SPD AUTOMATIC TRANS 8F57 4 WHL L/H PART TIME...                       MAGNETIC  NORDIC BLUV - NUNATEK  ENGINE UNDERBODY PROTECTION , EXTENDED RANGE S...  UNPLANNED\n",
              "3    B1083  V710 CAMPER  2025-02-14 00:00:00        2026.00  CAMPER  320 LWB  2.0L CR TC DSL PANTHER F EURO 6.2 EMISSIONS  8 SPD AUTOMATIC TRANS 8F57 4 WHL L/H PART TIME...  MOONDUST SILVER C/C MED SOLID  NORDIC BLUV - NUNATEK  EXTENDED RANGE SINGLE FU/TNK , DRIVER ASSISTAN...  UNPLANNED\n",
              "4    B1084  V710 CAMPER  2025-02-14 00:00:00        2026.00  CAMPER  320 LWB  2.0L CR TC DSL PANTHER F EURO 6.2 EMISSIONS  8 SPD AUTOMATIC TRANS 8F57 4 WHL L/H PART TIME...                    ARTISAN RED  NORDIC BLUV - NUNATEK  EXTENDED RANGE SINGLE FU/TNK , DRIVER ASSISTAN...  UNPLANNED"
            ]
          },
          "execution_count": 10,
          "metadata": {},
          "output_type": "execute_result"
        }
      ],
      "source": [
        "# A) Read the **single Parquet file** with projection (fast)\n",
        "#    We first inspect the schema, intersect with BUSINESS_KEEP, then read only those columns.\n",
        "\n",
        "import pyarrow.parquet as pq\n",
        "schema = pq.read_schema(PARQUET_FILE)\n",
        "available = {str(f.name) for f in schema}\n",
        "keep_final = [c for c in BUSINESS_KEEP if c in available]\n",
        "missing = [c for c in BUSINESS_KEEP if c not in available]\n",
        "\n",
        "df = pd.read_parquet(PARQUET_FILE, columns=keep_final, engine='pyarrow')\n",
        "\n",
        "print('Columns requested :', len(BUSINESS_KEEP))\n",
        "print('Columns read      :', len(keep_final))\n",
        "if missing:\n",
        "    print('Missing columns :', missing)\n",
        "\n",
        "pd.set_option('display.max_columns', None, 'display.width', 500)\n",
        "\n",
        "print(df.head(20).to_string(index=False))\n",
        "df.head()\n"
      ]
    },
    {
      "cell_type": "markdown",
      "metadata": {},
      "source": [
        "---\n",
        "### (Optional) B) Read the **entire Delta table** and then select the same columns\n",
        "Use this if you want rows across **all** Parquet parts. Requires the `deltalake` package.\n"
      ]
    },
    {
      "cell_type": "code",
      "execution_count": 9,
      "metadata": {},
      "outputs": [
        {
          "name": "stdout",
          "output_type": "stream",
          "text": [
            "Delta version: 0\n",
            "Columns requested : 13\n",
            "Columns read      : 13\n",
            "ORDER_NO             MODEL_2          ORDER_DATE         VIN MODEL_YEAR                  BODY             SERIES                                          ENGINE                                             TRANSMISSION                        COLOUR                                                               TRIM                                                                                                                                                                                                                                                                     OPTION_LIST          BUILD_DATE\n",
            "   A0034         V710 CAMPER 2025-01-08 00:00:00                2026.00                CAMPER            320 LWB     2.0L CR TC DSL PANTHER F EURO 6.2 EMISSIONS     8 SPD AUTOMATIC TRANS 8F57 4 WHL L/H PART TIME DRIVE                 BLUE METALLIC                                              NORDIC BLUV - NUNATEK                         19X7.5 ALLOY WHEEL STYLE A , ENGINE UNDERBODY PROTECTION , EXTENDED RANGE SINGLE FU/TNK , ADAPTIVE DSS HEADLAMP , MANUAL REGEN INITIATION , DRIVER ASSISTANCE PACKAGE #6 , DUAL SIDE LOAD DOORS , HEATED STEERING WHEELS , RETRACTABLE TRAILER COUPLING           UNPLANNED\n",
            "   B1262         V710 CAMPER 2025-02-26 00:00:00                2026.00                CAMPER            320 LWB     2.0L CR TC DSL PANTHER F EURO 6.2 EMISSIONS     8 SPD AUTOMATIC TRANS 8F57 4 WHL L/H PART TIME DRIVE MOONDUST SILVER C/C MED SOLID                                              NORDIC BLUV - NUNATEK                                                                                                ENGINE UNDERBODY PROTECTION , EXTENDED RANGE SINGLE FU/TNK , DRIVER ASSISTANCE PACKAGE #6 , DUAL SIDE LOAD DOORS - POWER , HEATED STEERING WHEELS , RETRACTABLE TRAILER COUPLING           UNPLANNED\n",
            "   B1263         V710 CAMPER 2025-02-26 00:00:00                2026.00                CAMPER            320 LWB     2.0L CR TC DSL PANTHER F EURO 6.2 EMISSIONS     8 SPD AUTOMATIC TRANS 8F57 4 WHL L/H PART TIME DRIVE                      MAGNETIC                                              NORDIC BLUV - NUNATEK                                                                                                ENGINE UNDERBODY PROTECTION , EXTENDED RANGE SINGLE FU/TNK , DRIVER ASSISTANCE PACKAGE #6 , DUAL SIDE LOAD DOORS - POWER , HEATED STEERING WHEELS , RETRACTABLE TRAILER COUPLING           UNPLANNED\n",
            "   B1083         V710 CAMPER 2025-02-14 00:00:00                2026.00                CAMPER            320 LWB     2.0L CR TC DSL PANTHER F EURO 6.2 EMISSIONS     8 SPD AUTOMATIC TRANS 8F57 4 WHL L/H PART TIME DRIVE MOONDUST SILVER C/C MED SOLID                                              NORDIC BLUV - NUNATEK                                                                                                                                      EXTENDED RANGE SINGLE FU/TNK , DRIVER ASSISTANCE PACKAGE #6 , DUAL SIDE LOAD DOORS , HEATED STEERING WHEELS , RETRACTABLE TRAILER COUPLING           UNPLANNED\n",
            "   B1084         V710 CAMPER 2025-02-14 00:00:00                2026.00                CAMPER            320 LWB     2.0L CR TC DSL PANTHER F EURO 6.2 EMISSIONS     8 SPD AUTOMATIC TRANS 8F57 4 WHL L/H PART TIME DRIVE                   ARTISAN RED                                              NORDIC BLUV - NUNATEK                                                                                                                                      EXTENDED RANGE SINGLE FU/TNK , DRIVER ASSISTANCE PACKAGE #6 , DUAL SIDE LOAD DOORS , HEATED STEERING WHEELS , RETRACTABLE TRAILER COUPLING           UNPLANNED\n",
            "   B1264         V710 CAMPER 2025-02-26 00:00:00                2026.00                CAMPER            320 LWB     2.0L CR TC DSL PANTHER F EURO 6.2 EMISSIONS     8 SPD AUTOMATIC TRANS 8F57 4 WHL L/H PART TIME DRIVE                   ARTISAN RED                                              NORDIC BLUV - NUNATEK                                                                                                ENGINE UNDERBODY PROTECTION , EXTENDED RANGE SINGLE FU/TNK , DRIVER ASSISTANCE PACKAGE #6 , DUAL SIDE LOAD DOORS - POWER , HEATED STEERING WHEELS , RETRACTABLE TRAILER COUPLING           UNPLANNED\n",
            "   B0449         V710 CAMPER 2025-02-04 00:00:00                2026.00                CAMPER            320 LWB     2.0L CR TC DSL PANTHER F EURO 6.2 EMISSIONS     8 SPD AUTOMATIC TRANS 8F57 4 WHL L/H PART TIME DRIVE                  FROZEN WHITE                                              NORDIC BLUV - NUNATEK                                                                                                       ENGINE UNDERBODY PROTECTION , EXTENDED RANGE SINGLE FU/TNK , ADAPTIVE DSS HEADLAMP , KERBSIDE PWR SIDE LOAD DOORS , HEATED STEERING WHEELS , RETRACTABLE TRAILER COUPLING           UNPLANNED\n",
            "   E0099      C519 MCA FOCUS 2025-05-06 00:00:00 GCHPSR24332    2024.50  4 DOOR STATION WAGON            ST-LINE      1.5L DV NEO TC DI DSL D EURO 6.2 EMISSIONS         8 SPD AUTOMATIC TRANS 8F35 2 WHL L/H FRONT DRIVE                   Agate Black                                             GENERIC REC - RAY/ETON                                                                                                                                                                              MARKETING WINTER PACK #1 , PERIMETER /VOLUME THEFT SYSTEM , PRIVACY GLASS , REAR VIEW CAMERA-FIXED 2025-06-04 00:00:00\n",
            "   G1026 V710 TRANSIT CUSTOM 2025-07-15 00:00:00 TA3RSG47090    2026.00     REGULAR CARGO VAN        1.0-280S-1T   2.0L PANTHER 81KW / 110PS STAGE 6.2 EMISSIONS                   6 SP MAN TRANS-VMT6 3 SHAFT 2W FWD LHD                  FROZEN WHITE                                         BLACK ONYXC - PLUS STYLE 1                                                                                                                                                                   STEERING WHEEL-LEATHER WRAPPED , SPARE WHEEL-16\" STEEL , EXTENDED RANGE SINGLE FU/TNK , LOCKING GLOVE BOX LID 2025-08-18 00:00:00\n",
            "   B0810 V710 TOURNEO CUSTOM 2025-02-05 00:00:00 TA4XSP36409    2025.75            BUS M1 LRF            320 SWB     2.0L CR TC DSL PANTHER F EURO 6.2 EMISSIONS                    8 SPD AUTOMATIC TRANS 8F57 2W FWD LHD                   GREY MATTER                                              NORDIC BLUV - NUNATEK                                                                                                                 19X7.5 ALLOY WHEEL STYLE A , EXTENDED RANGE SINGLE FU/TNK , POWER INVERTER #1 , TRAILER TOW ELECTRICS , HEATED STEERING WHEELS , FLIP OPEN 2ND ROW R/H SIDE WND 2025-05-23 00:00:00\n",
            "   D0171     CX482 KUGA 2024 2025-04-07 00:00:00 WPMHSR44533    2025.75 SPORT UTILITY VEHICLE             ACTIVE 2.5L DURATEC AUTO PHEV STAGE 6.2 PHEV EMISSIONS            CVT AUTO HF55 PHEV/FHEV 2 WHL L/H FRONT DRIVE                   AGATE BLACK                                                        Active trim                                                                                                                                                                                SPARE WHEEL-MINI STEEL , TOWING PRE-PACK , CHARGE CORD - ELEC BATTERY , MARKETING WINTER PACK #1 2025-06-17 00:00:00\n",
            "   F0612     CX482 KUGA 2024 2025-06-16 00:00:00 WPMFSA58211    2025.75 SPORT UTILITY VEHICLE            ST-LINE             1.5L DRAGON AUTO EURO 6.2 EMISSIONS         8 SPD AUTOMATIC TRANS 8F35 2 WHL L/H FRONT DRIVE                   AGATE BLACK                                                       ST-Line trim                                                                                                                                                                                                                                                        MARKETING WINTER PACK #1 2025-07-24 00:00:00\n",
            "   K0087        CX740L CAPRI 2024-07-23 00:00:00 EF1SRY27949    2025.00            5-DOOR CUV               SELF        EXTENDED RANGE RWD ZERO EMISSION VEHICLE                            1 SPEED AUTO TRANSMISSION RWD                  Vivid Yellow                     Onyx Black Sensico with Cloth Sport Style Seat                                                                                                                                                                                                                                                                                 2024-10-28 00:00:00\n",
            "   C0218 V710 TOURNEO CUSTOM 2024-03-27 00:00:00 TA7XSU80217    2025.25            BUS M1 LRF            320 SWB     2.0L CR TC DSL PANTHER F EURO 6.2 EMISSIONS                       8 SPD AUTOMATIC TRANS 8F57 AWD LHD                   ARTISAN RED                                      BLACK ONYXF - WINDSOR STYLE 2 SPARE WHEEL - TEMPORARY , 14 RADIO SPEAKERS , EXTENDED RANGE SINGLE FU/TNK , POWER INVERTER #1 , H8 95AH AGM BATTERY , DUAL SIDE LOAD DOORS - POWER , HEATED STEERING WHEELS , SEAT PACK 23 , RETRACTABLE TRAILER COUPLING , FLIP OPEN 2ND ROW R/H SIDE WND , WIRELESS CHARGING 2025-02-22 00:00:00\n",
            "   G1241    RANGER P703 2022 2025-07-22 00:00:00                2026.00 DOUBLE CAB (CREW CAB) WILDTRAK #1 SERIES    2.0L CR TC DSL PANTHER C STAGE 6.2 EMISSIONS 10 SPD AUTO TRANSMISSION-10R80 4 WHL L/H FULL TIME DRIVE                BLUE LIGHTNING                                                   EBONYLEATHER # 2                                                                                                                                   PWR REAR 1 SHOT UP/DOWN WINDOW , TONNEAU COVER - POWER ROLL TOP , MARKETING CV PACK #3 , TECHNOLOGY PACKAGE 52 , CARGO AREA MANAGEMENT SYSTEM           UNPLANNED\n",
            "   G1310    RANGER P703 2022 2025-07-22 00:00:00                2026.00 DOUBLE CAB (CREW CAB) WILDTRAK #1 SERIES    2.0L CR TC DSL PANTHER C STAGE 6.2 EMISSIONS 10 SPD AUTO TRANSMISSION-10R80 4 WHL L/H FULL TIME DRIVE               CYBER ORANGE 3C                                                   EBONYLEATHER # 2                                                                                                                                   PWR REAR 1 SHOT UP/DOWN WINDOW , TONNEAU COVER - POWER ROLL TOP , MARKETING CV PACK #3 , TECHNOLOGY PACKAGE 46 , CARGO AREA MANAGEMENT SYSTEM           UNPLANNED\n",
            "   C1686  TRANSIT V363E 2024 2025-03-19 00:00:00 TTRESB82671    2025.75                   VAN               350L          2.0L ECOBLUE 130PS STAGE 6.2 EMISSIONS                      6 SP MAN TRANS-VMT6 3 SHAFT LHD-FWD                      RACE RED                                          DARK PALAZC-QUADRANT/CITY                                                                                                                           FRONT SPLASH GUARDS/MUD FLAPS , SPARE WHEEL-CONVENTIONAL STEEL , ELECTRIC WINDSHIELD DEFROSTER , ATC AIR CONDITIONER , CTR HIGH-MOUNTED LED DOWNLIGHT 2025-05-02 00:00:00\n",
            "   F0530      C519 MCA FOCUS 2025-06-04 00:00:00                2024.50  4 DOOR STATION WAGON           TITANIUM      1.5L DV NEO TC DI DSL D EURO 6.2 EMISSIONS         8 SPD AUTOMATIC TRANS 8F35 2 WHL L/H FRONT DRIVE                   Agate Black                     Titanium fabric trim (Metal Gray - Ray Fabric)                                                                                                                                                                                                                                                         6.5X 16\" ALLOY  STYLE D 2025-11-17 00:00:00\n",
            "   E0131   V761 CITY VAN TOU 2025-05-27 00:00:00 SK6SX022729    2025.75         GRAND TOURNEO             ACTIVE              2.0L ECOBLUE 122PS STAGE 6E-BIS M1             6 SPEED MANUAL AWD 4 WHL L/H FULL TIME DRIVE                  Dusky Silver Glacier (black) seat trim with blue emblems and contrast stitching                                                                                                                                                                                                               PROGRAM AUX HTR FUEL BURN , FIXED TRAILER COUPLING , SEAT PACK 17 2025-07-07 00:00:00\n",
            "   F0707     CX482 KUGA 2024 2025-06-13 00:00:00                2025.75 SPORT UTILITY VEHICLE            ST-LINE 2.5L DURATEC AUTO FHEV STAGE 6.2 FHEV EMISSIONS        CVT AUTO HF55 PHEV/FHEV 4 WHL L/H PART TIME DRIVE                 MAGNETIC GREY                                                       ST-Line trim                                                                                                                                                                                                                               SPARE WHEEL-MINI STEEL , MARKETING WINTER PACK #1 2025-09-22 00:00:00\n"
          ]
        }
      ],
      "source": [
        "if DeltaTable is not None:\n",
        "    dt = DeltaTable(TABLE_DIR)\n",
        "    print('Delta version:', dt.version())\n",
        "    df_all = dt.to_pandas()\n",
        "    cols_in_data = set(df_all.columns)\n",
        "    keep_final = [c for c in BUSINESS_KEEP if c in cols_in_data]\n",
        "    missing = [c for c in BUSINESS_KEEP if c not in cols_in_data]\n",
        "    df_tbl = df_all[keep_final] if keep_final else df_all\n",
        "    print('Columns requested :', len(BUSINESS_KEEP))\n",
        "    print('Columns read      :', len(keep_final))\n",
        "    if missing:\n",
        "        print('Missing columns :', missing)\n",
        "\n",
        "    print(df_tbl.head(20).to_string(index=False))\n",
        "else:\n",
        "    print('deltalake not installed; skipping full-table read.')\n"
      ]
    },
    {
      "cell_type": "code",
      "execution_count": null,
      "id": "0a840e63",
      "metadata": {},
      "outputs": [],
      "source": []
    }
  ],
  "metadata": {
    "kernelspec": {
      "display_name": ".venv",
      "language": "python",
      "name": "python3"
    },
    "language_info": {
      "codemirror_mode": {
        "name": "ipython",
        "version": 3
      },
      "file_extension": ".py",
      "mimetype": "text/x-python",
      "name": "python",
      "nbconvert_exporter": "python",
      "pygments_lexer": "ipython3",
      "version": "3.12.10"
    }
  },
  "nbformat": 4,
  "nbformat_minor": 5
}
